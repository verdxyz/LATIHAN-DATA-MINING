{
 "cells": [
  {
   "cell_type": "markdown",
   "id": "06d07be3",
   "metadata": {},
   "source": [
    "# 📘 Preprocessing Data Mahasiswa\n",
    "Contoh preprocessing data mahasiswa menggunakan **pandas**, **scikit-learn**, dan **SMOTE**.\n"
   ]
  },
  {
   "cell_type": "code",
   "execution_count": null,
   "id": "8c7ea17e",
   "metadata": {},
   "outputs": [],
   "source": [
    "import pandas as pd\n",
    "from sklearn.preprocessing import LabelEncoder, StandardScaler\n",
    "from imblearn.over_sampling import SMOTE\n",
    "from sklearn.model_selection import train_test_split"
   ]
  },
  {
   "cell_type": "code",
   "execution_count": null,
   "id": "fd461aac",
   "metadata": {},
   "outputs": [],
   "source": [
    "# 1. Baca data (contoh dari CSV)\n",
    "# Ubah 'data_mahasiswa.csv' sesuai nama file dataset kamu\n",
    "data = pd.read_csv(\"data_mahasiswa.csv\")\n",
    "\n",
    "# 2. Data Cleaning\n",
    "data = data.drop_duplicates()\n",
    "data['IPK'] = data['IPK'].fillna(data['IPK'].mean())\n",
    "data['ABSEN'] = data['ABSEN'].fillna(data['ABSEN'].median())\n",
    "data['MATA KULIAH GAGAL'] = data['MATA KULIAH GAGAL'].fillna(0)\n",
    "\n",
    "data.head()"
   ]
  },
  {
   "cell_type": "code",
   "execution_count": null,
   "id": "c1b01029",
   "metadata": {},
   "outputs": [],
   "source": [
    "# 3. Encoding Data Kategorikal\n",
    "label_enc = LabelEncoder()\n",
    "data['KELAMIN'] = label_enc.fit_transform(data['KELAMIN'])\n",
    "data['JURUSAN'] = label_enc.fit_transform(data['JURUSAN'])\n",
    "\n",
    "# 4. Feature Engineering\n",
    "data['PERSEN_SKS'] = data['TOTAL SKS'] / (data['TOTAL SKS'] + data['SISA SKS'])\n",
    "data['ABSEN_NORM'] = 1 - data['ABSEN']\n",
    "\n",
    "data.head()"
   ]
  },
  {
   "cell_type": "code",
   "execution_count": null,
   "id": "8087bc38",
   "metadata": {},
   "outputs": [],
   "source": [
    "# 5. Pisahkan fitur dan target\n",
    "X = data.drop(columns=['NIM','LULUS DALAM 4 TAHUN'])\n",
    "y = data['LULUS DALAM 4 TAHUN']\n",
    "\n",
    "# 6. Scaling\n",
    "scaler = StandardScaler()\n",
    "X_scaled = scaler.fit_transform(X)\n",
    "\n",
    "# 7. Tangani Imbalance dengan SMOTE\n",
    "smote = SMOTE(random_state=42)\n",
    "X_resampled, y_resampled = smote.fit_resample(X_scaled, y)\n",
    "\n",
    "# 8. Split Data Train/Test\n",
    "X_train, X_test, y_train, y_test = train_test_split(\n",
    "    X_resampled, y_resampled, test_size=0.2, random_state=42, stratify=y_resampled\n",
    ")\n",
    "\n",
    "print(\"Jumlah data setelah SMOTE:\", X_resampled.shape)\n",
    "print(\"Distribusi target:\\n\", y_resampled.value_counts())"
   ]
  }
 ],
 "metadata": {},
 "nbformat": 4,
 "nbformat_minor": 5
}
